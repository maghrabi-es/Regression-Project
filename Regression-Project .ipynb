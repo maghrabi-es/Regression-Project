{
 "cells": [
  {
   "cell_type": "code",
   "execution_count": 80,
   "id": "738c4743",
   "metadata": {},
   "outputs": [],
   "source": [
    "from bs4 import BeautifulSoup as bs\n",
    "from urllib.request import urlopen \n",
    "import pandas as pd\n",
    "from selenium import webdriver\n",
    "from selenium.webdriver.support.ui import WebDriverWait\n",
    "from selenium.webdriver.support import expected_conditions as EC\n",
    "from selenium.webdriver.common.by import By\n",
    "from selenium.common.exceptions import TimeoutException\n",
    "import time\n",
    "import requests\n",
    "import scrapy\n",
    "from scrapy.crawler import CrawlerProcess\n",
    "import json\n",
    "import numpy as np \n",
    "import matplotlib.pyplot as plt\n",
    "import re\n",
    "from sklearn.model_selection import train_test_split\n",
    "from pandas.plotting import scatter_matrix\n",
    "import seaborn as sns\n",
    "from sklearn.compose import ColumnTransformer\n",
    "from sklearn.preprocessing import MinMaxScaler\n",
    "from sklearn.preprocessing import OrdinalEncoder\n",
    "from sklearn.linear_model import LinearRegression\n",
    "import sklearn.metrics as metrics\n",
    "from sklearn.model_selection import cross_val_score,cross_val_predict\n"
   ]
  },
  {
   "cell_type": "code",
   "execution_count": null,
   "id": "cc694047",
   "metadata": {},
   "outputs": [],
   "source": []
  },
  {
   "cell_type": "markdown",
   "id": "65d99d27",
   "metadata": {},
   "source": [
    "# Inputting the URL"
   ]
  },
  {
   "cell_type": "code",
   "execution_count": 21,
   "id": "acb47a10",
   "metadata": {},
   "outputs": [],
   "source": [
    "#url = 'https://www.udemy.com/robots.txt'\n",
    "#response  = requests.get(url)\n",
    "#print(response.text)"
   ]
  },
  {
   "cell_type": "code",
   "execution_count": 43,
   "id": "382c0fa6",
   "metadata": {},
   "outputs": [],
   "source": [
    "ch='/Users/elyasm/Downloads/chromedriver'\n",
    "de=15"
   ]
  },
  {
   "cell_type": "code",
   "execution_count": 44,
   "id": "4340e17c",
   "metadata": {},
   "outputs": [],
   "source": [
    "driver=webdriver.Chrome(executable_path=ch)\n",
    "driver.get('https://www.udemy.com/courses/it-and-software/?p=1')"
   ]
  },
  {
   "cell_type": "code",
   "execution_count": 45,
   "id": "b0ccc5a4",
   "metadata": {},
   "outputs": [],
   "source": [
    "def extract_text(soup_obj, tag, attribute_name, attribute_value):\n",
    "    txt = soup_obj.find(tag, {attribute_name: attribute_value}).text.strip() if soup_obj.find(tag, {attribute_name: attribute_value}) else ''\n",
    "    return txt\n",
    "\n",
    "rows = []\n",
    "\n",
    "for page_number in range(151, 625):\n",
    "   #f'https://www.udemy.com/courses/it-and-software/?p={page_number}'\n",
    "    page_url =f'https://www.udemy.com/courses/it-and-software/?has_closed_caption=true&p={page_number}&sort=popularity'\n",
    "    driver.get(page_url)\n",
    "    time.sleep(7)\n",
    "\n",
    "    try:\n",
    "        WebDriverWait(driver, de).until(EC.presence_of_element_located((By.CLASS_NAME, 'course-list--container--3zXPS')))\n",
    "    except TimeoutException:\n",
    "        print('Loading exceeds delay time')\n",
    "        break\n",
    "    else:\n",
    "        soup = bs(driver.page_source, 'html.parser')\n",
    "        course_list = soup.find('div', {'class': 'course-list--container--3zXPS'})\n",
    "        courses = course_list.find_all('a', {'class': 'udlite-custom-focus-visible browse-course-card--link--3KIkQ'})\n",
    "        \n",
    "        for course in courses:          \n",
    "            course_url = '{0}{1}'.format('https://www.udemy.com', course['href'])\n",
    "            course_title = course.select('div[class*=\"course-card--course-title\"]')[0].text         \n",
    "            course_headline = extract_text(course, 'p', 'data-purpose', 'safely-set-inner-html:course-card:course-headline')            \n",
    "            author = extract_text(course, 'div', 'data-purpose', 'safely-set-inner-html:course-card:visible-instructors')\n",
    "            off_price=extract_text(course,'div', 'data-purpose', 'course-price-text').strip('Current price$')\n",
    "            orig_price=extract_text(course,'div', 'data-purpose', 'original-price-container').strip('Original Price$')\n",
    "            course_rating = extract_text(course, 'span', 'data-purpose', 'rating-number')\n",
    "            number_of_ratings = extract_text(course, 'span', 'class', 'udlite-text-xs course-card--reviews-text--1yloi')[1:-1].replace(',','')\n",
    "            course_detail = course.find_all('span', {'class':'course-card--row--29Y0w'})\n",
    "            course_length = course_detail[0].get_text(strip=True).strip(' total hours')\n",
    "            number_of_lectures = course_detail[1].get_text(strip=True).strip(' lectures')\n",
    "            difficulity = course_detail[2].get_text(strip=True)\n",
    "            r=requests.get(course_url)\n",
    "            s=bs(r.content,'lxml')\n",
    "            student=extract_text(s, 'div', 'data-purpose', 'enrollment').strip('student').replace(',','')\n",
    "\n",
    "            rows.append(\n",
    "                [course_url, course_title, course_headline, author,off_price,orig_price, course_rating, number_of_ratings, course_length, number_of_lectures, difficulity,student]               \n",
    "            )\n",
    "\n",
    "columns = ['url', 'Course Title', 'Course Headline', 'Instructor','off_price','orig_price', 'Rating', 'Number of Ratings', 'Course Length', 'Number of Lectures', 'Difficulity','Subscribers']\n",
    "df = pd.DataFrame(data=rows, columns=columns)\n",
    "df.to_csv('Udmey Courses1.csv', index=False)\n",
    "driver.quit()"
   ]
  },
  {
   "cell_type": "markdown",
   "id": "a8a6c40d",
   "metadata": {},
   "source": [
    "\n",
    "# Cleaning"
   ]
  },
  {
   "cell_type": "code",
   "execution_count": 2,
   "id": "b9077546",
   "metadata": {},
   "outputs": [],
   "source": [
    "df1=pd.read_csv(\"Udmey Courses.csv\")\n",
    "df=pd.read_csv(\"Udmey Courses1.csv\")"
   ]
  },
  {
   "cell_type": "code",
   "execution_count": 3,
   "id": "494e1e7a",
   "metadata": {},
   "outputs": [],
   "source": [
    "udmey=pd.concat([df1, df], join=\"outer\")"
   ]
  },
  {
   "cell_type": "code",
   "execution_count": 4,
   "id": "14dad1a2",
   "metadata": {},
   "outputs": [
    {
     "data": {
      "text/html": [
       "<div>\n",
       "<style scoped>\n",
       "    .dataframe tbody tr th:only-of-type {\n",
       "        vertical-align: middle;\n",
       "    }\n",
       "\n",
       "    .dataframe tbody tr th {\n",
       "        vertical-align: top;\n",
       "    }\n",
       "\n",
       "    .dataframe thead th {\n",
       "        text-align: right;\n",
       "    }\n",
       "</style>\n",
       "<table border=\"1\" class=\"dataframe\">\n",
       "  <thead>\n",
       "    <tr style=\"text-align: right;\">\n",
       "      <th></th>\n",
       "      <th>url</th>\n",
       "      <th>Course Title</th>\n",
       "      <th>Course Headline</th>\n",
       "      <th>Instructor</th>\n",
       "      <th>off_price</th>\n",
       "      <th>orig_price</th>\n",
       "      <th>Rating</th>\n",
       "      <th>Number of Ratings</th>\n",
       "      <th>Course Length</th>\n",
       "      <th>Number of Lectures</th>\n",
       "      <th>Difficulity</th>\n",
       "      <th>Subscribers</th>\n",
       "    </tr>\n",
       "  </thead>\n",
       "  <tbody>\n",
       "    <tr>\n",
       "      <th>0</th>\n",
       "      <td>https://www.udemy.com/course/learn-ethical-hac...</td>\n",
       "      <td>Learn Ethical Hacking From Scratch</td>\n",
       "      <td>Become an ethical hacker that can hack compute...</td>\n",
       "      <td>Zaid Sabih, z Security</td>\n",
       "      <td>17.99</td>\n",
       "      <td>99.99</td>\n",
       "      <td>4.6</td>\n",
       "      <td>98625.0</td>\n",
       "      <td>15.5</td>\n",
       "      <td>143</td>\n",
       "      <td>All Levels</td>\n",
       "      <td>459448.0</td>\n",
       "    </tr>\n",
       "    <tr>\n",
       "      <th>1</th>\n",
       "      <td>https://www.udemy.com/course/aws-certified-sol...</td>\n",
       "      <td>Ultimate AWS Certified Solutions Architect Ass...</td>\n",
       "      <td>Pass the AWS Certified Solutions Architect Ass...</td>\n",
       "      <td>Stephane Maarek | AWS Certified Cloud Practiti...</td>\n",
       "      <td>15.99</td>\n",
       "      <td>89.99</td>\n",
       "      <td>4.7</td>\n",
       "      <td>95400.0</td>\n",
       "      <td>27</td>\n",
       "      <td>368</td>\n",
       "      <td>All Levels</td>\n",
       "      <td>399272.0</td>\n",
       "    </tr>\n",
       "    <tr>\n",
       "      <th>2</th>\n",
       "      <td>https://www.udemy.com/course/aws-certified-clo...</td>\n",
       "      <td>[NEW] Ultimate AWS Certified Cloud Practitione...</td>\n",
       "      <td>Pass the Amazon Web Services Certified Cloud P...</td>\n",
       "      <td>Stephane Maarek | AWS Certified Cloud Practiti...</td>\n",
       "      <td>14.99</td>\n",
       "      <td>84.99</td>\n",
       "      <td>4.7</td>\n",
       "      <td>61370.0</td>\n",
       "      <td>14</td>\n",
       "      <td>252</td>\n",
       "      <td>Beginner</td>\n",
       "      <td>289608.0</td>\n",
       "    </tr>\n",
       "    <tr>\n",
       "      <th>3</th>\n",
       "      <td>https://www.udemy.com/course/new-comptia-a-201...</td>\n",
       "      <td>TOTAL: CompTIA A+ Certification (220-1001).</td>\n",
       "      <td>Course 1: Everything you need to pass the A+ C...</td>\n",
       "      <td>Total Seminars • 750,000+ Enrollments, Mike Me...</td>\n",
       "      <td>20.99</td>\n",
       "      <td>119.99</td>\n",
       "      <td>4.7</td>\n",
       "      <td>48413.0</td>\n",
       "      <td>17.5</td>\n",
       "      <td>131</td>\n",
       "      <td>Beginner</td>\n",
       "      <td>116933.0</td>\n",
       "    </tr>\n",
       "    <tr>\n",
       "      <th>4</th>\n",
       "      <td>https://www.udemy.com/course/aws-certified-dev...</td>\n",
       "      <td>Ultimate AWS Certified Developer Associate 202...</td>\n",
       "      <td>Become an AWS Certified Developer! Learn all A...</td>\n",
       "      <td>Stephane Maarek | AWS Certified Cloud Practiti...</td>\n",
       "      <td>14.99</td>\n",
       "      <td>89.99</td>\n",
       "      <td>4.7</td>\n",
       "      <td>47350.0</td>\n",
       "      <td>32.5</td>\n",
       "      <td>428</td>\n",
       "      <td>All Levels</td>\n",
       "      <td>252455.0</td>\n",
       "    </tr>\n",
       "    <tr>\n",
       "      <th>...</th>\n",
       "      <td>...</td>\n",
       "      <td>...</td>\n",
       "      <td>...</td>\n",
       "      <td>...</td>\n",
       "      <td>...</td>\n",
       "      <td>...</td>\n",
       "      <td>...</td>\n",
       "      <td>...</td>\n",
       "      <td>...</td>\n",
       "      <td>...</td>\n",
       "      <td>...</td>\n",
       "      <td>...</td>\n",
       "    </tr>\n",
       "    <tr>\n",
       "      <th>7579</th>\n",
       "      <td>https://www.udemy.com/course/live-fr8-app-adva...</td>\n",
       "      <td>LIVE FR8 App – advancing 4IR logistics using C...</td>\n",
       "      <td>Road Freight and Logistics Optimization enhanc...</td>\n",
       "      <td>Andria Rautenbach, Dr Sjoerd Alkema, Christiaa...</td>\n",
       "      <td>F</td>\n",
       "      <td>NaN</td>\n",
       "      <td>4.3</td>\n",
       "      <td>13.0</td>\n",
       "      <td>1</td>\n",
       "      <td>14</td>\n",
       "      <td>Intermediate</td>\n",
       "      <td>811.0</td>\n",
       "    </tr>\n",
       "    <tr>\n",
       "      <th>7580</th>\n",
       "      <td>https://www.udemy.com/course/understanding-ip-...</td>\n",
       "      <td>Understanding IP Addressing and Subnetting</td>\n",
       "      <td>Understanding IP Addressing and Subnetting</td>\n",
       "      <td>Sulaiman Siddiqi</td>\n",
       "      <td>F</td>\n",
       "      <td>NaN</td>\n",
       "      <td>4.4</td>\n",
       "      <td>13.0</td>\n",
       "      <td>44 total min</td>\n",
       "      <td>10</td>\n",
       "      <td>Beginner</td>\n",
       "      <td>4203.0</td>\n",
       "    </tr>\n",
       "    <tr>\n",
       "      <th>7581</th>\n",
       "      <td>https://www.udemy.com/course/windows-7-perform...</td>\n",
       "      <td>The Complete Windows 7 Performance Boosting Guide</td>\n",
       "      <td>Become An Expert In Windows 7 Performance &amp; Bo...</td>\n",
       "      <td>Craig Chamberlin</td>\n",
       "      <td>F</td>\n",
       "      <td>NaN</td>\n",
       "      <td>4.2</td>\n",
       "      <td>13.0</td>\n",
       "      <td>2</td>\n",
       "      <td>34</td>\n",
       "      <td>Beginner</td>\n",
       "      <td>1962.0</td>\n",
       "    </tr>\n",
       "    <tr>\n",
       "      <th>7582</th>\n",
       "      <td>https://www.udemy.com/course/lonero-os/</td>\n",
       "      <td>An Introduction to the Lonero OS</td>\n",
       "      <td>Learn about the mission behind Lonero OS</td>\n",
       "      <td>Andrew Magdy Kamal</td>\n",
       "      <td>F</td>\n",
       "      <td>NaN</td>\n",
       "      <td>4.0</td>\n",
       "      <td>13.0</td>\n",
       "      <td>33 total min</td>\n",
       "      <td>8</td>\n",
       "      <td>Beginner</td>\n",
       "      <td>2986.0</td>\n",
       "    </tr>\n",
       "    <tr>\n",
       "      <th>7583</th>\n",
       "      <td>https://www.udemy.com/course/getting-started-w...</td>\n",
       "      <td>Getting Started with Life QI</td>\n",
       "      <td>Get to grips with the basics and create your f...</td>\n",
       "      <td>Life QI Quality Improvement Software</td>\n",
       "      <td>F</td>\n",
       "      <td>NaN</td>\n",
       "      <td>3.7</td>\n",
       "      <td>13.0</td>\n",
       "      <td>32 total min</td>\n",
       "      <td>9</td>\n",
       "      <td>Beginner</td>\n",
       "      <td>1815.0</td>\n",
       "    </tr>\n",
       "  </tbody>\n",
       "</table>\n",
       "<p>9968 rows × 12 columns</p>\n",
       "</div>"
      ],
      "text/plain": [
       "                                                    url  \\\n",
       "0     https://www.udemy.com/course/learn-ethical-hac...   \n",
       "1     https://www.udemy.com/course/aws-certified-sol...   \n",
       "2     https://www.udemy.com/course/aws-certified-clo...   \n",
       "3     https://www.udemy.com/course/new-comptia-a-201...   \n",
       "4     https://www.udemy.com/course/aws-certified-dev...   \n",
       "...                                                 ...   \n",
       "7579  https://www.udemy.com/course/live-fr8-app-adva...   \n",
       "7580  https://www.udemy.com/course/understanding-ip-...   \n",
       "7581  https://www.udemy.com/course/windows-7-perform...   \n",
       "7582            https://www.udemy.com/course/lonero-os/   \n",
       "7583  https://www.udemy.com/course/getting-started-w...   \n",
       "\n",
       "                                           Course Title  \\\n",
       "0                    Learn Ethical Hacking From Scratch   \n",
       "1     Ultimate AWS Certified Solutions Architect Ass...   \n",
       "2     [NEW] Ultimate AWS Certified Cloud Practitione...   \n",
       "3           TOTAL: CompTIA A+ Certification (220-1001).   \n",
       "4     Ultimate AWS Certified Developer Associate 202...   \n",
       "...                                                 ...   \n",
       "7579  LIVE FR8 App – advancing 4IR logistics using C...   \n",
       "7580         Understanding IP Addressing and Subnetting   \n",
       "7581  The Complete Windows 7 Performance Boosting Guide   \n",
       "7582                   An Introduction to the Lonero OS   \n",
       "7583                       Getting Started with Life QI   \n",
       "\n",
       "                                        Course Headline  \\\n",
       "0     Become an ethical hacker that can hack compute...   \n",
       "1     Pass the AWS Certified Solutions Architect Ass...   \n",
       "2     Pass the Amazon Web Services Certified Cloud P...   \n",
       "3     Course 1: Everything you need to pass the A+ C...   \n",
       "4     Become an AWS Certified Developer! Learn all A...   \n",
       "...                                                 ...   \n",
       "7579  Road Freight and Logistics Optimization enhanc...   \n",
       "7580         Understanding IP Addressing and Subnetting   \n",
       "7581  Become An Expert In Windows 7 Performance & Bo...   \n",
       "7582           Learn about the mission behind Lonero OS   \n",
       "7583  Get to grips with the basics and create your f...   \n",
       "\n",
       "                                             Instructor off_price  orig_price  \\\n",
       "0                                Zaid Sabih, z Security     17.99       99.99   \n",
       "1     Stephane Maarek | AWS Certified Cloud Practiti...     15.99       89.99   \n",
       "2     Stephane Maarek | AWS Certified Cloud Practiti...     14.99       84.99   \n",
       "3     Total Seminars • 750,000+ Enrollments, Mike Me...     20.99      119.99   \n",
       "4     Stephane Maarek | AWS Certified Cloud Practiti...     14.99       89.99   \n",
       "...                                                 ...       ...         ...   \n",
       "7579  Andria Rautenbach, Dr Sjoerd Alkema, Christiaa...         F         NaN   \n",
       "7580                                   Sulaiman Siddiqi         F         NaN   \n",
       "7581                                   Craig Chamberlin         F         NaN   \n",
       "7582                                 Andrew Magdy Kamal         F         NaN   \n",
       "7583               Life QI Quality Improvement Software         F         NaN   \n",
       "\n",
       "      Rating  Number of Ratings Course Length  Number of Lectures  \\\n",
       "0        4.6            98625.0          15.5                 143   \n",
       "1        4.7            95400.0            27                 368   \n",
       "2        4.7            61370.0            14                 252   \n",
       "3        4.7            48413.0          17.5                 131   \n",
       "4        4.7            47350.0          32.5                 428   \n",
       "...      ...                ...           ...                 ...   \n",
       "7579     4.3               13.0             1                  14   \n",
       "7580     4.4               13.0  44 total min                  10   \n",
       "7581     4.2               13.0             2                  34   \n",
       "7582     4.0               13.0  33 total min                   8   \n",
       "7583     3.7               13.0  32 total min                   9   \n",
       "\n",
       "       Difficulity  Subscribers  \n",
       "0       All Levels     459448.0  \n",
       "1       All Levels     399272.0  \n",
       "2         Beginner     289608.0  \n",
       "3         Beginner     116933.0  \n",
       "4       All Levels     252455.0  \n",
       "...            ...          ...  \n",
       "7579  Intermediate        811.0  \n",
       "7580      Beginner       4203.0  \n",
       "7581      Beginner       1962.0  \n",
       "7582      Beginner       2986.0  \n",
       "7583      Beginner       1815.0  \n",
       "\n",
       "[9968 rows x 12 columns]"
      ]
     },
     "execution_count": 4,
     "metadata": {},
     "output_type": "execute_result"
    }
   ],
   "source": [
    "udmey"
   ]
  },
  {
   "cell_type": "code",
   "execution_count": 5,
   "id": "8266f9b2",
   "metadata": {},
   "outputs": [
    {
     "name": "stderr",
     "output_type": "stream",
     "text": [
      "<ipython-input-5-601e0ca60271>:2: DeprecationWarning: `np.float` is a deprecated alias for the builtin `float`. To silence this warning, use `float` by itself. Doing this will not modify any behavior and is safe. If you specifically wanted the numpy scalar type, use `np.float64` here.\n",
      "Deprecated in NumPy 1.20; for more details and guidance: https://numpy.org/devdocs/release/1.20.0-notes.html#deprecations\n",
      "  udmey['Course Length']=udmey['Course Length'].astype(np.float)\n"
     ]
    }
   ],
   "source": [
    "udmey['Course Length']=udmey['Course Length'].str.strip(' total min')\n",
    "udmey['Course Length']=udmey['Course Length'].astype(np.float)\n"
   ]
  },
  {
   "cell_type": "code",
   "execution_count": 6,
   "id": "5f3215a0",
   "metadata": {},
   "outputs": [
    {
     "name": "stderr",
     "output_type": "stream",
     "text": [
      "<ipython-input-6-ff41a5d3dd55>:2: DeprecationWarning: `np.float` is a deprecated alias for the builtin `float`. To silence this warning, use `float` by itself. Doing this will not modify any behavior and is safe. If you specifically wanted the numpy scalar type, use `np.float64` here.\n",
      "Deprecated in NumPy 1.20; for more details and guidance: https://numpy.org/devdocs/release/1.20.0-notes.html#deprecations\n",
      "  udmey['off_price']=udmey['off_price'].astype(np.float)\n"
     ]
    }
   ],
   "source": [
    "udmey['off_price']=udmey['off_price'].replace('F',None)\n",
    "udmey['off_price']=udmey['off_price'].astype(np.float)"
   ]
  },
  {
   "cell_type": "code",
   "execution_count": 7,
   "id": "9f8fde2f",
   "metadata": {},
   "outputs": [],
   "source": [
    "for column in ['orig_price','off_price','Rating','Number of Ratings','Subscribers']:\n",
    "    udmey[column]=udmey[column].fillna(udmey[column].mean())"
   ]
  },
  {
   "cell_type": "code",
   "execution_count": 8,
   "id": "7378cfcd",
   "metadata": {},
   "outputs": [
    {
     "name": "stdout",
     "output_type": "stream",
     "text": [
      "<class 'pandas.core.frame.DataFrame'>\n",
      "Int64Index: 9968 entries, 0 to 7583\n",
      "Data columns (total 12 columns):\n",
      " #   Column              Non-Null Count  Dtype  \n",
      "---  ------              --------------  -----  \n",
      " 0   url                 9968 non-null   object \n",
      " 1   Course Title        9968 non-null   object \n",
      " 2   Course Headline     9968 non-null   object \n",
      " 3   Instructor          9968 non-null   object \n",
      " 4   off_price           9968 non-null   float64\n",
      " 5   orig_price          9968 non-null   float64\n",
      " 6   Rating              9968 non-null   float64\n",
      " 7   Number of Ratings   9968 non-null   float64\n",
      " 8   Course Length       9968 non-null   float64\n",
      " 9   Number of Lectures  9968 non-null   int64  \n",
      " 10  Difficulity         9968 non-null   object \n",
      " 11  Subscribers         9968 non-null   float64\n",
      "dtypes: float64(6), int64(1), object(5)\n",
      "memory usage: 1012.4+ KB\n"
     ]
    }
   ],
   "source": [
    "udmey.info()"
   ]
  },
  {
   "cell_type": "code",
   "execution_count": 9,
   "id": "efdd47c3",
   "metadata": {},
   "outputs": [
    {
     "data": {
      "text/plain": [
       "url                   0\n",
       "Course Title          0\n",
       "Course Headline       0\n",
       "Instructor            0\n",
       "off_price             0\n",
       "orig_price            0\n",
       "Rating                0\n",
       "Number of Ratings     0\n",
       "Course Length         0\n",
       "Number of Lectures    0\n",
       "Difficulity           0\n",
       "Subscribers           0\n",
       "dtype: int64"
      ]
     },
     "execution_count": 9,
     "metadata": {},
     "output_type": "execute_result"
    }
   ],
   "source": [
    "udmey.isna().sum()"
   ]
  },
  {
   "cell_type": "code",
   "execution_count": 10,
   "id": "56786aca",
   "metadata": {},
   "outputs": [
    {
     "data": {
      "text/html": [
       "<div>\n",
       "<style scoped>\n",
       "    .dataframe tbody tr th:only-of-type {\n",
       "        vertical-align: middle;\n",
       "    }\n",
       "\n",
       "    .dataframe tbody tr th {\n",
       "        vertical-align: top;\n",
       "    }\n",
       "\n",
       "    .dataframe thead th {\n",
       "        text-align: right;\n",
       "    }\n",
       "</style>\n",
       "<table border=\"1\" class=\"dataframe\">\n",
       "  <thead>\n",
       "    <tr style=\"text-align: right;\">\n",
       "      <th></th>\n",
       "      <th>off_price</th>\n",
       "      <th>orig_price</th>\n",
       "      <th>Rating</th>\n",
       "      <th>Number of Ratings</th>\n",
       "      <th>Course Length</th>\n",
       "      <th>Number of Lectures</th>\n",
       "      <th>Subscribers</th>\n",
       "    </tr>\n",
       "  </thead>\n",
       "  <tbody>\n",
       "    <tr>\n",
       "      <th>count</th>\n",
       "      <td>9968.000000</td>\n",
       "      <td>9968.000000</td>\n",
       "      <td>9968.000000</td>\n",
       "      <td>9968.000000</td>\n",
       "      <td>9968.000000</td>\n",
       "      <td>9968.000000</td>\n",
       "      <td>9968.000000</td>\n",
       "    </tr>\n",
       "    <tr>\n",
       "      <th>mean</th>\n",
       "      <td>17.239900</td>\n",
       "      <td>52.604088</td>\n",
       "      <td>4.194684</td>\n",
       "      <td>457.791016</td>\n",
       "      <td>7.637741</td>\n",
       "      <td>47.002508</td>\n",
       "      <td>6050.152036</td>\n",
       "    </tr>\n",
       "    <tr>\n",
       "      <th>std</th>\n",
       "      <td>14.940135</td>\n",
       "      <td>28.854682</td>\n",
       "      <td>0.513667</td>\n",
       "      <td>2459.577000</td>\n",
       "      <td>10.255304</td>\n",
       "      <td>58.381346</td>\n",
       "      <td>19410.600273</td>\n",
       "    </tr>\n",
       "    <tr>\n",
       "      <th>min</th>\n",
       "      <td>14.990000</td>\n",
       "      <td>19.990000</td>\n",
       "      <td>1.000000</td>\n",
       "      <td>1.000000</td>\n",
       "      <td>1.000000</td>\n",
       "      <td>4.000000</td>\n",
       "      <td>0.000000</td>\n",
       "    </tr>\n",
       "    <tr>\n",
       "      <th>25%</th>\n",
       "      <td>14.990000</td>\n",
       "      <td>19.990000</td>\n",
       "      <td>4.000000</td>\n",
       "      <td>15.000000</td>\n",
       "      <td>2.000000</td>\n",
       "      <td>16.000000</td>\n",
       "      <td>89.000000</td>\n",
       "    </tr>\n",
       "    <tr>\n",
       "      <th>50%</th>\n",
       "      <td>14.990000</td>\n",
       "      <td>52.604088</td>\n",
       "      <td>4.300000</td>\n",
       "      <td>55.000000</td>\n",
       "      <td>3.500000</td>\n",
       "      <td>29.000000</td>\n",
       "      <td>727.500000</td>\n",
       "    </tr>\n",
       "    <tr>\n",
       "      <th>75%</th>\n",
       "      <td>14.990000</td>\n",
       "      <td>89.990000</td>\n",
       "      <td>4.500000</td>\n",
       "      <td>283.000000</td>\n",
       "      <td>8.000000</td>\n",
       "      <td>55.000000</td>\n",
       "      <td>4459.250000</td>\n",
       "    </tr>\n",
       "    <tr>\n",
       "      <th>max</th>\n",
       "      <td>199.990000</td>\n",
       "      <td>129.990000</td>\n",
       "      <td>5.000000</td>\n",
       "      <td>98625.000000</td>\n",
       "      <td>125.500000</td>\n",
       "      <td>699.000000</td>\n",
       "      <td>471846.000000</td>\n",
       "    </tr>\n",
       "  </tbody>\n",
       "</table>\n",
       "</div>"
      ],
      "text/plain": [
       "         off_price   orig_price       Rating  Number of Ratings  \\\n",
       "count  9968.000000  9968.000000  9968.000000        9968.000000   \n",
       "mean     17.239900    52.604088     4.194684         457.791016   \n",
       "std      14.940135    28.854682     0.513667        2459.577000   \n",
       "min      14.990000    19.990000     1.000000           1.000000   \n",
       "25%      14.990000    19.990000     4.000000          15.000000   \n",
       "50%      14.990000    52.604088     4.300000          55.000000   \n",
       "75%      14.990000    89.990000     4.500000         283.000000   \n",
       "max     199.990000   129.990000     5.000000       98625.000000   \n",
       "\n",
       "       Course Length  Number of Lectures    Subscribers  \n",
       "count    9968.000000         9968.000000    9968.000000  \n",
       "mean        7.637741           47.002508    6050.152036  \n",
       "std        10.255304           58.381346   19410.600273  \n",
       "min         1.000000            4.000000       0.000000  \n",
       "25%         2.000000           16.000000      89.000000  \n",
       "50%         3.500000           29.000000     727.500000  \n",
       "75%         8.000000           55.000000    4459.250000  \n",
       "max       125.500000          699.000000  471846.000000  "
      ]
     },
     "execution_count": 10,
     "metadata": {},
     "output_type": "execute_result"
    }
   ],
   "source": [
    "udmey.describe()"
   ]
  },
  {
   "cell_type": "markdown",
   "id": "e2d83b00",
   "metadata": {},
   "source": [
    "As shown above, there are no missing values which is excellent!\n",
    "\n",
    "It is vital to understand the features we are working with.\n",
    "Features in the DataFrame:\n",
    "\n",
    "course_title: Title of course\n",
    "url: Course URL\n",
    "price: Price of course\n",
    "num_subscribers: Number of subscribers for the course\n",
    "num_lectures: Number of lectures in the course\n",
    "Difficulity: Difficulty level of the course\n",
    "content_duration: Duration of all course materials"
   ]
  },
  {
   "cell_type": "code",
   "execution_count": 11,
   "id": "b0143ea0",
   "metadata": {},
   "outputs": [
    {
     "data": {
      "image/png": "[encoded data removed]",
      "text/plain": [
       "<Figure size 1440x1080 with 6 Axes>"
      ]
     },
     "metadata": {
      "needs_background": "light"
     },
     "output_type": "display_data"
    }
   ],
   "source": [
    "udmey.drop([\"off_price\"], axis=1).hist(bins=30, figsize=(20,15))\n",
    "plt.tight_layout()\n",
    "plt.show()"
   ]
  },
  {
   "cell_type": "markdown",
   "id": "28ed51d2",
   "metadata": {},
   "source": [
    "Initial observations from the histograms:\n",
    "\n",
    "Most course durations are between 0-60 min.\n",
    "There are usually around 1-50 lectures per course.\n",
    "Courses tend to have few reviews. There are probably a handful of courses with a large amount of reviews since the X axis goes up to 10000 while over 9000 instances are represented in the first bin.\n",
    "The majority of courses are in the same range of subscribers. The instances farther up the scale were probably more successful or perhaps courses on a trending topic.\n",
    "Assuming the prices are in USD, the range is between 0-120 dollars. The plot shows the most common price roughly 20 / 55 / 95 USD."
   ]
  },
  {
   "cell_type": "markdown",
   "id": "87a3f842",
   "metadata": {},
   "source": [
    "# Objective"
   ]
  },
  {
   "cell_type": "markdown",
   "id": "03d30d7f",
   "metadata": {},
   "source": [
    "Predicting the number of subscribers for a course.\n"
   ]
  },
  {
   "cell_type": "markdown",
   "id": "fb4d825e",
   "metadata": {},
   "source": [
    "Chosen Feature:\n",
    "\n",
    "subscribers column\n",
    "\n",
    "The column represents how many people have subscribed to each course."
   ]
  },
  {
   "cell_type": "markdown",
   "id": "91ab772b",
   "metadata": {},
   "source": [
    "# Motive:\n",
    "Predicting the number of people subscribed to a course, course popularity."
   ]
  },
  {
   "cell_type": "markdown",
   "id": "04abc69d",
   "metadata": {},
   "source": [
    "Splitting the Data:\n",
    "\n",
    "Before further analysis let's split the data into a training set and a testing set. This will ensure avoidance of bias that could occur from learning the data as a whole."
   ]
  },
  {
   "cell_type": "code",
   "execution_count": 12,
   "id": "61cf5888",
   "metadata": {},
   "outputs": [],
   "source": [
    "# use sklearn train_test_split function to split the data\n",
    "# the random state parameter ensures that data will be shuffled and split the same way in each run\n",
    "train_set, test_set = train_test_split(udmey, test_size=0.20, random_state=42)"
   ]
  },
  {
   "cell_type": "code",
   "execution_count": 13,
   "id": "db269eea",
   "metadata": {},
   "outputs": [
    {
     "name": "stdout",
     "output_type": "stream",
     "text": [
      "Number of instances in training set:  7974\n",
      "Number of instances in testing set:  1994\n"
     ]
    }
   ],
   "source": [
    "print(\"Number of instances in training set: \", len(train_set))\n",
    "print(\"Number of instances in testing set: \", len(test_set))"
   ]
  },
  {
   "cell_type": "code",
   "execution_count": 14,
   "id": "3ae8b4f6",
   "metadata": {},
   "outputs": [],
   "source": [
    "df2 = train_set.copy()"
   ]
  },
  {
   "cell_type": "code",
   "execution_count": 15,
   "id": "f6eade0c",
   "metadata": {},
   "outputs": [
    {
     "data": {
      "text/html": [
       "<div>\n",
       "<style scoped>\n",
       "    .dataframe tbody tr th:only-of-type {\n",
       "        vertical-align: middle;\n",
       "    }\n",
       "\n",
       "    .dataframe tbody tr th {\n",
       "        vertical-align: top;\n",
       "    }\n",
       "\n",
       "    .dataframe thead th {\n",
       "        text-align: right;\n",
       "    }\n",
       "</style>\n",
       "<table border=\"1\" class=\"dataframe\">\n",
       "  <thead>\n",
       "    <tr style=\"text-align: right;\">\n",
       "      <th></th>\n",
       "      <th>url</th>\n",
       "      <th>Course Title</th>\n",
       "      <th>Course Headline</th>\n",
       "      <th>Instructor</th>\n",
       "      <th>off_price</th>\n",
       "      <th>orig_price</th>\n",
       "      <th>Rating</th>\n",
       "      <th>Number of Ratings</th>\n",
       "      <th>Course Length</th>\n",
       "      <th>Number of Lectures</th>\n",
       "      <th>Difficulity</th>\n",
       "      <th>Subscribers</th>\n",
       "    </tr>\n",
       "  </thead>\n",
       "  <tbody>\n",
       "    <tr>\n",
       "      <th>3940</th>\n",
       "      <td>https://www.udemy.com/course/mobile-computer-f...</td>\n",
       "      <td>Mobile Computer Forensics Fundamentals</td>\n",
       "      <td>Understanding the concepts and practices of mo...</td>\n",
       "      <td>John Boyle</td>\n",
       "      <td>14.99</td>\n",
       "      <td>59.99</td>\n",
       "      <td>4.1</td>\n",
       "      <td>12.0</td>\n",
       "      <td>2.0</td>\n",
       "      <td>21</td>\n",
       "      <td>Beginner</td>\n",
       "      <td>69.0</td>\n",
       "    </tr>\n",
       "    <tr>\n",
       "      <th>4524</th>\n",
       "      <td>https://www.udemy.com/course/webdev-3000/</td>\n",
       "      <td>WebDev 3000: Pure Python Web Sites</td>\n",
       "      <td>Creating &amp; Testing Standards-Based Internet Ex...</td>\n",
       "      <td>Randall Nagy</td>\n",
       "      <td>14.99</td>\n",
       "      <td>19.99</td>\n",
       "      <td>3.3</td>\n",
       "      <td>8.0</td>\n",
       "      <td>6.5</td>\n",
       "      <td>45</td>\n",
       "      <td>Intermediate</td>\n",
       "      <td>4304.0</td>\n",
       "    </tr>\n",
       "  </tbody>\n",
       "</table>\n",
       "</div>"
      ],
      "text/plain": [
       "                                                    url  \\\n",
       "3940  https://www.udemy.com/course/mobile-computer-f...   \n",
       "4524          https://www.udemy.com/course/webdev-3000/   \n",
       "\n",
       "                                Course Title  \\\n",
       "3940  Mobile Computer Forensics Fundamentals   \n",
       "4524      WebDev 3000: Pure Python Web Sites   \n",
       "\n",
       "                                        Course Headline    Instructor  \\\n",
       "3940  Understanding the concepts and practices of mo...    John Boyle   \n",
       "4524  Creating & Testing Standards-Based Internet Ex...  Randall Nagy   \n",
       "\n",
       "      off_price  orig_price  Rating  Number of Ratings  Course Length  \\\n",
       "3940      14.99       59.99     4.1               12.0            2.0   \n",
       "4524      14.99       19.99     3.3                8.0            6.5   \n",
       "\n",
       "      Number of Lectures   Difficulity  Subscribers  \n",
       "3940                  21      Beginner         69.0  \n",
       "4524                  45  Intermediate       4304.0  "
      ]
     },
     "execution_count": 15,
     "metadata": {},
     "output_type": "execute_result"
    }
   ],
   "source": [
    "df2.head(2)"
   ]
  },
  {
   "cell_type": "code",
   "execution_count": 16,
   "id": "d5a3b00f",
   "metadata": {},
   "outputs": [],
   "source": [
    "corr_matrix = df2.corr()"
   ]
  },
  {
   "cell_type": "code",
   "execution_count": 17,
   "id": "e6c2c8df",
   "metadata": {},
   "outputs": [
    {
     "data": {
      "text/plain": [
       "Subscribers           1.000000\n",
       "Number of Ratings     0.660972\n",
       "Number of Lectures    0.141142\n",
       "orig_price            0.089785\n",
       "Course Length         0.076074\n",
       "Rating                0.066079\n",
       "off_price            -0.034812\n",
       "Name: Subscribers, dtype: float64"
      ]
     },
     "execution_count": 17,
     "metadata": {},
     "output_type": "execute_result"
    }
   ],
   "source": [
    "corr_matrix[\"Subscribers\"].sort_values(ascending=False)"
   ]
  },
  {
   "cell_type": "code",
   "execution_count": 18,
   "id": "60f6f634",
   "metadata": {},
   "outputs": [
    {
     "data": {
      "image/png": "[encoded data removed]",
      "text/plain": [
       "<Figure size 864x576 with 16 Axes>"
      ]
     },
     "metadata": {
      "needs_background": "light"
     },
     "output_type": "display_data"
    }
   ],
   "source": [
    "attributes = [\"Subscribers\", \"Number of Ratings\", \"Number of Lectures\", \"Course Length\"]\n",
    "\n",
    "scatter_matrix(df2[attributes], figsize=(12,8))\n",
    "plt.tight_layout()\n",
    "plt.show()"
   ]
  },
  {
   "cell_type": "code",
   "execution_count": 19,
   "id": "486226dd",
   "metadata": {},
   "outputs": [
    {
     "data": {
      "image/png": "[encoded data removed]",
      "text/plain": [
       "<Figure size 720x360 with 1 Axes>"
      ]
     },
     "metadata": {
      "needs_background": "light"
     },
     "output_type": "display_data"
    }
   ],
   "source": [
    "df2.plot(kind=\"scatter\", x=\"Number of Ratings\", y=\"Subscribers\", alpha=0.1,\n",
    "         color='b', figsize=(10,5))\n",
    "plt.title(\"Reviews and Subscribers Correlation\", size=20)\n",
    "plt.xlabel(\"Number of Ratings\", size=15)\n",
    "plt.ylabel(\"Subscribers\", size=15)\n",
    "plt.tight_layout()\n",
    "plt.show()"
   ]
  },
  {
   "cell_type": "markdown",
   "id": "c7082977",
   "metadata": {},
   "source": [
    "# Correlations with num_subscribers Attribute- Overview:"
   ]
  },
  {
   "cell_type": "markdown",
   "id": "2ab01024",
   "metadata": {},
   "source": [
    "The strongest positive correlations (0.1 or more) are:\n",
    "\n",
    "*Number of Ratings\n",
    "\n",
    "*Number of Lectures\n",
    "\n",
    "*Course Length \n",
    "\n",
    "The strongest negative correlations (-0.1 or less) are:\n",
    "\n",
    "*off_price "
   ]
  },
  {
   "cell_type": "code",
   "execution_count": 20,
   "id": "21313a4f",
   "metadata": {},
   "outputs": [],
   "source": [
    "df2.drop_duplicates(inplace=True)"
   ]
  },
  {
   "cell_type": "code",
   "execution_count": 28,
   "id": "490b6573",
   "metadata": {},
   "outputs": [
    {
     "data": {
      "text/plain": [
       "All Levels      3562\n",
       "Beginner        2730\n",
       "Intermediate    1247\n",
       "Expert           168\n",
       "Name: Difficulity, dtype: int64"
      ]
     },
     "execution_count": 28,
     "metadata": {},
     "output_type": "execute_result"
    }
   ],
   "source": [
    "level_values = df2[\"Difficulity\"].value_counts()\n",
    "level_values"
   ]
  },
  {
   "cell_type": "code",
   "execution_count": 31,
   "id": "cee6361f",
   "metadata": {},
   "outputs": [
    {
     "data": {
      "image/png": "[encoded data removed]",
      "text/plain": [
       "<Figure size 720x360 with 1 Axes>"
      ]
     },
     "metadata": {
      "needs_background": "light"
     },
     "output_type": "display_data"
    }
   ],
   "source": [
    "plt.figure(figsize=(10,5))\n",
    "sns.scatterplot(y=df2[\"Difficulity\"], x=df2[\"orig_price\"], alpha=0.1)\n",
    "plt.title(\"Price by Course Level\", size=20)\n",
    "plt.xlabel(\"price\", size=15)\n",
    "plt.ylabel(\"level\", size=15)\n",
    "plt.tight_layout()\n",
    "plt.show()"
   ]
  },
  {
   "cell_type": "markdown",
   "id": "f535601a",
   "metadata": {},
   "source": [
    "# Observations:\n",
    "*All Levels and Beginners are the most common level, representing over 50%.\n",
    "\n",
    "*Price variations according to the level of the course also show that Expert is the least common level in the data. It is also the only level that does not provide free courses. The other levels are dispersed more frequently throughout the line.\n",
    "\n"
   ]
  },
  {
   "cell_type": "code",
   "execution_count": 34,
   "id": "537c3827",
   "metadata": {},
   "outputs": [
    {
     "data": {
      "image/png": "[encoded data removed]",
      "text/plain": [
       "<Figure size 720x360 with 1 Axes>"
      ]
     },
     "metadata": {
      "needs_background": "light"
     },
     "output_type": "display_data"
    }
   ],
   "source": [
    "# plot subject by number of subscribers and level\n",
    "# the black bars represent the error\n",
    "plt.figure(figsize=(10,5))\n",
    "sns.barplot(x=df2[\"Difficulity\"], y=df2[\"Subscribers\"])\n",
    "plt.title(\"Level by Number of Subscribers\", size=20)\n",
    "plt.xlabel(\"Level\", size=15)\n",
    "plt.ylabel(\"subscribers\", size=15)\n",
    "plt.tight_layout()\n",
    "plt.show()"
   ]
  },
  {
   "cell_type": "markdown",
   "id": "665c6790",
   "metadata": {},
   "source": []
  },
  {
   "cell_type": "markdown",
   "id": "d63f292a",
   "metadata": {},
   "source": []
  },
  {
   "cell_type": "code",
   "execution_count": 42,
   "id": "7addebd1",
   "metadata": {},
   "outputs": [
    {
     "name": "stdout",
     "output_type": "stream",
     "text": [
      "<class 'pandas.core.frame.DataFrame'>\n",
      "Int64Index: 7974 entries, 3940 to 4886\n",
      "Data columns (total 12 columns):\n",
      " #   Column              Non-Null Count  Dtype  \n",
      "---  ------              --------------  -----  \n",
      " 0   url                 7974 non-null   object \n",
      " 1   Course Title        7974 non-null   object \n",
      " 2   Course Headline     7974 non-null   object \n",
      " 3   Instructor          7974 non-null   object \n",
      " 4   off_price           7974 non-null   float64\n",
      " 5   orig_price          7974 non-null   float64\n",
      " 6   Rating              7974 non-null   float64\n",
      " 7   Number of Ratings   7974 non-null   float64\n",
      " 8   Course Length       7974 non-null   float64\n",
      " 9   Number of Lectures  7974 non-null   int64  \n",
      " 10  Difficulity         7974 non-null   object \n",
      " 11  Subscribers         7974 non-null   float64\n",
      "dtypes: float64(6), int64(1), object(5)\n",
      "memory usage: 809.9+ KB\n"
     ]
    }
   ],
   "source": [
    "df3 = train_set.copy().info()"
   ]
  },
  {
   "cell_type": "code",
   "execution_count": 39,
   "id": "691b667a",
   "metadata": {},
   "outputs": [
    {
     "data": {
      "text/plain": [
       "(7974, 12)"
      ]
     },
     "execution_count": 39,
     "metadata": {},
     "output_type": "execute_result"
    }
   ],
   "source": [
    "df3.shape"
   ]
  },
  {
   "cell_type": "code",
   "execution_count": 40,
   "id": "dc048307",
   "metadata": {},
   "outputs": [],
   "source": [
    "X_train = df3.drop(\"Subscribers\", axis=1)"
   ]
  },
  {
   "cell_type": "code",
   "execution_count": 41,
   "id": "0144c67d",
   "metadata": {},
   "outputs": [],
   "source": [
    "y_train = df3[\"Subscribers\"].copy()"
   ]
  },
  {
   "cell_type": "code",
   "execution_count": 54,
   "id": "d64003f0",
   "metadata": {},
   "outputs": [
    {
     "data": {
      "text/plain": [
       "['orig_price', 'Number of Ratings', 'Number of Lectures', 'Course Length']"
      ]
     },
     "execution_count": 54,
     "metadata": {},
     "output_type": "execute_result"
    }
   ],
   "source": [
    "num_features"
   ]
  },
  {
   "cell_type": "markdown",
   "id": "e3dd87bf",
   "metadata": {},
   "source": [
    "# Removing the Following Columns:"
   ]
  },
  {
   "cell_type": "markdown",
   "id": "0df3e9dc",
   "metadata": {},
   "source": [
    "The reason for removing these columns is for the model to generalize better. Furthermore, these columns have a unique value for each instance (i.e. URL, course ID) which does not provide information the model can learn from to predict on new data.\n",
    "\n",
    "\n",
    "Course_title\n",
    "\n",
    "Course Headline\n",
    "\n",
    "Instructor \n",
    "\n",
    "Rating \n",
    "\n",
    "Url\n",
    "\n",
    "Off_price \n"
   ]
  },
  {
   "cell_type": "code",
   "execution_count": 61,
   "id": "72b402bc",
   "metadata": {},
   "outputs": [],
   "source": [
    "num_features = [\"orig_price\", \"Number of Ratings\", \"Number of Lectures\", \"Course Length\"]\n",
    "levels = [\"All Levels\", \"Beginner\", \"Intermediate\", \"Expert\"]\n",
    "full_pipeline = ColumnTransformer([(\"num\", MinMaxScaler(), num_features),\n",
    "                                   (\"Difficulity\", OrdinalEncoder(categories=[levels]), [\"Difficulity\"]),\n",
    "])\n",
    "features = num_features+[\"Difficulity\"]\n",
    "\n",
    "\n",
    "X_train_prepared = full_pipeline.fit_transform(X_train)\n",
    "X_tr_testing = full_pipeline.transform(X_train)\n",
    "\n",
    "\n",
    "\n"
   ]
  },
  {
   "cell_type": "code",
   "execution_count": 64,
   "id": "a02602a8",
   "metadata": {},
   "outputs": [],
   "source": [
    "def display_scores(scores):\n",
    "    print(\"Scores:\", scores)\n",
    "    print(\"Mean:\", scores.mean())\n",
    "    print(\"Standard deviation:\", scores.std())\n",
    "\n",
    "# function prints evaluation metrics\n",
    "def display_evaluation(actual, pred):\n",
    "    mse = metrics.mean_squared_error(actual, pred)\n",
    "    print(\"Mean Squared Error:\", mse)\n",
    "    print(\"Root Mean Squared Error:\", np.sqrt(mse))"
   ]
  },
  {
   "cell_type": "code",
   "execution_count": 69,
   "id": "e8c5c6a8",
   "metadata": {},
   "outputs": [],
   "source": [
    "lr = LinearRegression()"
   ]
  },
  {
   "cell_type": "code",
   "execution_count": 70,
   "id": "fd23d89b",
   "metadata": {},
   "outputs": [
    {
     "data": {
      "text/plain": [
       "LinearRegression()"
      ]
     },
     "execution_count": 70,
     "metadata": {},
     "output_type": "execute_result"
    }
   ],
   "source": [
    "lr.fit(X_train_prepared, y_train)"
   ]
  },
  {
   "cell_type": "code",
   "execution_count": 71,
   "id": "e9d7c5b2",
   "metadata": {},
   "outputs": [],
   "source": [
    "lr_pred = lr.predict(X_tr_testing)"
   ]
  },
  {
   "cell_type": "code",
   "execution_count": 72,
   "id": "0ffa6a3c",
   "metadata": {},
   "outputs": [
    {
     "name": "stdout",
     "output_type": "stream",
     "text": [
      "Predictions: [ 3539.55129524  2320.94943247  2934.9529893   4974.61206865\n",
      "  4080.41604834  3180.47711954  2578.45490286 12573.0200109\n",
      "  3762.97610496 10462.57290998]\n",
      "Labels: [69.0, 4304.0, 1901.0, 294.0, 9513.0, 6050.152035559147, 408.0, 33288.0, 3783.0, 34725.0]\n"
     ]
    }
   ],
   "source": [
    "some_data = X_train.iloc[:10]\n",
    "some_labels = y_train.iloc[:10]\n",
    "some_data_prepared = full_pipeline.transform(some_data)\n",
    "print(\"Predictions:\", lr.predict(some_data_prepared))\n",
    "print(\"Labels:\", list(some_labels))"
   ]
  },
  {
   "cell_type": "code",
   "execution_count": 75,
   "id": "b0880b60",
   "metadata": {},
   "outputs": [
    {
     "name": "stdout",
     "output_type": "stream",
     "text": [
      "Mean Squared Error: 210450821.00328663\n",
      "Root Mean Squared Error: 14506.923209395114\n"
     ]
    }
   ],
   "source": [
    "display_evaluation(y_train, lr_pred)"
   ]
  },
  {
   "cell_type": "code",
   "execution_count": 78,
   "id": "41f4b539",
   "metadata": {},
   "outputs": [
    {
     "name": "stdout",
     "output_type": "stream",
     "text": [
      "Scores: [21008.0057591  13509.84699293 13049.00856565 14038.3629793\n",
      " 13113.69667591 12606.99384434 11233.8220254  15129.62627144\n",
      " 18483.67381478 12649.78456159]\n",
      "Mean: 14482.282149044235\n",
      "Standard deviation: 2855.0393840225656\n"
     ]
    }
   ],
   "source": [
    "\n",
    "lr_scores = cross_val_score(lr, X_train_prepared, y_train, cv=10, scoring=\"neg_mean_squared_error\", )\n",
    "\n",
    "lr_rmse_scores = np.sqrt(-lr_scores)\n",
    "display_scores(lr_rmse_scores)"
   ]
  },
  {
   "cell_type": "code",
   "execution_count": 81,
   "id": "7d6cadf0",
   "metadata": {},
   "outputs": [],
   "source": [
    "lr_pred = cross_val_predict(lr, X_tr_testing, y_train, cv=10)"
   ]
  },
  {
   "cell_type": "code",
   "execution_count": 82,
   "id": "1dc88950",
   "metadata": {},
   "outputs": [
    {
     "name": "stdout",
     "output_type": "stream",
     "text": [
      "Predictions: [ 3539.55129524  2320.94943247  2934.9529893   4974.61206865\n",
      "  4080.41604834  3180.47711954  2578.45490286 12573.0200109\n",
      "  3762.97610496 10462.57290998]\n",
      "Labels: [69.0, 4304.0, 1901.0, 294.0, 9513.0, 6050.152035559147, 408.0, 33288.0, 3783.0, 34725.0]\n"
     ]
    }
   ],
   "source": [
    "some_data = X_train.iloc[:10]\n",
    "some_labels = y_train.iloc[:10]\n",
    "some_data_prepared = full_pipeline.transform(some_data)\n",
    "print(\"Predictions:\", lr.predict(some_data_prepared))\n",
    "print(\"Labels:\", list(some_labels))"
   ]
  },
  {
   "cell_type": "code",
   "execution_count": 83,
   "id": "c0a67741",
   "metadata": {},
   "outputs": [
    {
     "name": "stdout",
     "output_type": "stream",
     "text": [
      "Mean Squared Error: 217902751.58995843\n",
      "Root Mean Squared Error: 14761.529446163715\n"
     ]
    }
   ],
   "source": [
    "display_evaluation(y_train, lr_pred)\n"
   ]
  },
  {
   "cell_type": "code",
   "execution_count": null,
   "id": "ea1d261e",
   "metadata": {},
   "outputs": [],
   "source": []
  },
  {
   "cell_type": "code",
   "execution_count": null,
   "id": "c6935a96",
   "metadata": {},
   "outputs": [],
   "source": []
  },
  {
   "cell_type": "code",
   "execution_count": null,
   "id": "21a2305b",
   "metadata": {},
   "outputs": [],
   "source": []
  },
  {
   "cell_type": "code",
   "execution_count": null,
   "id": "b088b042",
   "metadata": {},
   "outputs": [],
   "source": []
  },
  {
   "cell_type": "code",
   "execution_count": null,
   "id": "b4b89e81",
   "metadata": {},
   "outputs": [],
   "source": []
  },
  {
   "cell_type": "code",
   "execution_count": null,
   "id": "998d05e6",
   "metadata": {},
   "outputs": [],
   "source": []
  },
  {
   "cell_type": "code",
   "execution_count": null,
   "id": "67321630",
   "metadata": {},
   "outputs": [],
   "source": []
  },
  {
   "cell_type": "code",
   "execution_count": null,
   "id": "3de680fb",
   "metadata": {},
   "outputs": [],
   "source": []
  },
  {
   "cell_type": "code",
   "execution_count": null,
   "id": "d47c5c51",
   "metadata": {},
   "outputs": [],
   "source": []
  }
 ],
 "metadata": {
  "kernelspec": {
   "display_name": "Python 3",
   "language": "python",
   "name": "python3"
  },
  "language_info": {
   "codemirror_mode": {
    "name": "ipython",
    "version": 3
   },
   "file_extension": ".py",
   "mimetype": "text/x-python",
   "name": "python",
   "nbconvert_exporter": "python",
   "pygments_lexer": "ipython3",
   "version": "3.8.8"
  }
 },
 "nbformat": 4,
 "nbformat_minor": 5
}
